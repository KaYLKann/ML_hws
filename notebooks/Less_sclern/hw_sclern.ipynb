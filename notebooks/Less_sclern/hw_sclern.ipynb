{
 "cells": [
  {
   "cell_type": "code",
   "execution_count": 13,
   "metadata": {
    "collapsed": true,
    "pycharm": {
     "is_executing": false,
     "name": "#%%\n"
    }
   },
   "outputs": [],
   "source": [
    "import numpy as np\n",
    "import pandas as pd\n",
    "\n",
    "from sklearn.datasets import load_boston\n",
    "from sklearn.model_selection import train_test_split"
   ]
  },
  {
   "cell_type": "markdown",
   "source": [
    "### Задание 1 \n",
    "Linear Regression "
   ],
   "metadata": {
    "collapsed": false,
    "pycharm": {
     "name": "#%% md\n"
    }
   }
  },
  {
   "cell_type": "code",
   "execution_count": null,
   "outputs": [],
   "source": [
    "X, y = load_boston(return_X_y=True)"
   ],
   "metadata": {
    "collapsed": false,
    "pycharm": {
     "name": "#%%\n"
    }
   }
  },
  {
   "cell_type": "code",
   "execution_count": 15,
   "outputs": [],
   "source": [
    "X_train, X_test, y_train, y_test = train_test_split(X,y, test_size=0.30, random_state=42)"
   ],
   "metadata": {
    "collapsed": false,
    "pycharm": {
     "name": "#%%\n",
     "is_executing": false
    }
   }
  },
  {
   "cell_type": "code",
   "execution_count": 16,
   "outputs": [],
   "source": [
    "from sklearn.linear_model import LinearRegression"
   ],
   "metadata": {
    "collapsed": false,
    "pycharm": {
     "name": "#%% \n",
     "is_executing": false
    }
   }
  },
  {
   "cell_type": "code",
   "execution_count": 17,
   "outputs": [
    {
     "data": {
      "text/plain": "LinearRegression(copy_X=True, fit_intercept=True, n_jobs=None, normalize=False)"
     },
     "metadata": {},
     "output_type": "execute_result",
     "execution_count": 17
    }
   ],
   "source": [
    "lr = LinearRegression()\n",
    "\n",
    "lr.fit(X_train, y_train)"
   ],
   "metadata": {
    "collapsed": false,
    "pycharm": {
     "name": "#%%\n",
     "is_executing": false
    }
   }
  },
  {
   "cell_type": "code",
   "execution_count": 19,
   "outputs": [],
   "source": [
    "y_predict = lr.predict(X_test)"
   ],
   "metadata": {
    "collapsed": false,
    "pycharm": {
     "name": "#%%\n",
     "is_executing": false
    }
   }
  },
  {
   "cell_type": "code",
   "execution_count": 20,
   "outputs": [],
   "source": [
    "from sklearn.metrics import r2_score"
   ],
   "metadata": {
    "collapsed": false,
    "pycharm": {
     "name": "#%%\n",
     "is_executing": false
    }
   }
  },
  {
   "cell_type": "code",
   "execution_count": 48,
   "outputs": [
    {
     "data": {
      "text/plain": "0.711226005748496"
     },
     "metadata": {},
     "output_type": "execute_result",
     "execution_count": 48
    }
   ],
   "source": [
    "r2_result = r2_score(y_test, y_predict)\n",
    "r2_result"
   ],
   "metadata": {
    "collapsed": false,
    "pycharm": {
     "name": "#%%\n",
     "is_executing": false
    }
   }
  },
  {
   "cell_type": "code",
   "execution_count": 23,
   "outputs": [],
   "source": [
    "from sklearn.metrics import mean_squared_error"
   ],
   "metadata": {
    "collapsed": false,
    "pycharm": {
     "name": "#%%\n",
     "is_executing": false
    }
   }
  },
  {
   "cell_type": "code",
   "execution_count": 24,
   "outputs": [
    {
     "data": {
      "text/plain": "21.517444231176995"
     },
     "metadata": {},
     "output_type": "execute_result",
     "execution_count": 24
    }
   ],
   "source": [
    "mean_squared_error(y_test,y_predict)"
   ],
   "metadata": {
    "collapsed": false,
    "pycharm": {
     "name": "#%%\n",
     "is_executing": false
    }
   }
  },
  {
   "cell_type": "markdown",
   "source": [
    "### Задание 2\n",
    "Random Forest"
   ],
   "metadata": {
    "collapsed": false
   }
  },
  {
   "cell_type": "code",
   "execution_count": 40,
   "outputs": [],
   "source": [
    "from sklearn.ensemble import RandomForestRegressor"
   ],
   "metadata": {
    "collapsed": false,
    "pycharm": {
     "name": "#%%\n",
     "is_executing": false
    }
   }
  },
  {
   "cell_type": "code",
   "execution_count": 43,
   "outputs": [],
   "source": [
    "rnd_forest_model = RandomForestRegressor(n_estimators=1000, max_depth=12, random_state= 42)"
   ],
   "metadata": {
    "collapsed": false,
    "pycharm": {
     "name": "#%%\n",
     "is_executing": false
    }
   }
  },
  {
   "cell_type": "code",
   "execution_count": 44,
   "outputs": [
    {
     "data": {
      "text/plain": "RandomForestRegressor(bootstrap=True, ccp_alpha=0.0, criterion='mse',\n                      max_depth=12, max_features='auto', max_leaf_nodes=None,\n                      max_samples=None, min_impurity_decrease=0.0,\n                      min_impurity_split=None, min_samples_leaf=1,\n                      min_samples_split=2, min_weight_fraction_leaf=0.0,\n                      n_estimators=1000, n_jobs=None, oob_score=False,\n                      random_state=42, verbose=0, warm_start=False)"
     },
     "metadata": {},
     "output_type": "execute_result",
     "execution_count": 44
    }
   ],
   "source": [
    "rnd_forest_model.fit(X_train, y_train)"
   ],
   "metadata": {
    "collapsed": false,
    "pycharm": {
     "name": "#%%\n",
     "is_executing": false
    }
   }
  },
  {
   "cell_type": "code",
   "execution_count": 51,
   "outputs": [
    {
     "data": {
      "text/plain": "array([22.84613791, 31.15611352, 16.29722565, 23.82103598, 17.21214765,\n       21.82009184, 19.86636868, 14.75993798, 21.2352238 , 20.88310344,\n       20.11747257, 19.98569932,  8.04139649, 21.47152808, 19.36056421,\n       25.22123965, 18.86267442,  8.48509459, 45.8517    , 15.50158646,\n       24.38461149, 23.98476408, 14.54325214, 23.5866156 , 15.02972553,\n       15.26939983, 21.56389708, 13.95762333, 19.62523439, 21.0338126 ,\n       19.6773222 , 23.23122956, 30.04524357, 20.12497811, 14.40836619,\n       16.0512163 , 34.29058623, 19.18070898, 21.11179576, 24.23279505,\n       18.63348333, 29.54059089, 45.5721    , 19.62260746, 22.57463812,\n       13.9461684 , 15.72148872, 24.47776906, 19.12640766, 28.25341645,\n       21.36055927, 33.88579611, 17.70003733, 26.2955691 , 45.52367393,\n       21.87518392, 15.85920641, 32.42684361, 22.15625161, 20.61280516,\n       25.46784804, 33.69946617, 30.09116874, 19.02315904, 27.12221893,\n       16.92785667, 13.87709764, 23.11178339, 28.86580833, 15.60364655,\n       20.70795365, 28.5290223 , 10.40633229, 22.1418881 , 22.25060709,\n        6.84662173, 20.02223942, 46.1973    , 11.22845578, 12.343395  ,\n       21.66915975, 11.71659804, 19.98149887,  9.27621074, 20.84652411,\n       26.88144104, 15.8958322 , 23.2535284 , 23.79278583, 17.82707623,\n       21.83262465,  7.31787286, 19.95161966, 19.27256457, 23.37919204,\n       19.83480499, 38.20809056, 11.79317982, 12.5927831 , 12.41957102,\n       20.42505088, 23.88342033, 13.55444435, 20.22670719, 20.67802653,\n       12.58880048, 19.17249923, 24.81936387, 19.95662379, 23.48218529,\n        9.03444976, 15.32997333, 22.80138742, 25.46902515, 31.71841255,\n       14.75428768, 41.7279    , 16.40476451, 19.71150765, 24.27892467,\n       19.23919822, 24.12584183,  7.95409071, 20.75961658, 24.74901182,\n       21.6133435 , 23.9988962 , 35.10695276, 16.85049752, 45.0257    ,\n       15.02175426, 23.64409229, 19.62671988, 18.56029182, 14.00582163,\n       21.14303979, 20.7126355 , 31.62374567, 28.91108   , 17.41963516,\n       19.08059003, 25.00681308, 20.24787998, 18.43730524,  6.88261571,\n       21.78167131, 16.94242321, 13.48770675, 15.13239528, 42.9107    ,\n       15.63498922, 16.09654905])"
     },
     "metadata": {},
     "output_type": "execute_result",
     "execution_count": 51
    }
   ],
   "source": [
    "rnd_forest_predict = rnd_forest_model.predict(X_test)\n",
    "rnd_forest_predict"
   ],
   "metadata": {
    "collapsed": false,
    "pycharm": {
     "name": "#%%\n",
     "is_executing": false
    }
   }
  },
  {
   "cell_type": "code",
   "execution_count": 50,
   "outputs": [
    {
     "data": {
      "text/plain": "0.8749965273218174"
     },
     "metadata": {},
     "output_type": "execute_result",
     "execution_count": 50
    }
   ],
   "source": [
    "r2_rnd_forest = r2_score(y_test, rnd_forest_predict)\n",
    "r2_rnd_forest"
   ],
   "metadata": {
    "collapsed": false,
    "pycharm": {
     "name": "#%%\n",
     "is_executing": false
    }
   }
  },
  {
   "cell_type": "code",
   "execution_count": 49,
   "outputs": [
    {
     "name": "stdout",
     "text": [
      "r2 разница lin_reg:0.711226005748496, rnd_forest:0.8749965273218174\n"
     ],
     "output_type": "stream"
    }
   ],
   "source": [
    "print(f'r2 разница lin_reg:{r2_result}, rnd_forest:{r2_rnd_forest}')\n",
    "#вывод лес лучше"
   ],
   "metadata": {
    "collapsed": false,
    "pycharm": {
     "name": "#%%\n",
     "is_executing": false
    }
   }
  },
  {
   "cell_type": "markdown",
   "source": [
    "### Задание 3\n",
    "Random Forest"
   ],
   "metadata": {
    "collapsed": false
   }
  },
  {
   "cell_type": "code",
   "execution_count": 76,
   "outputs": [
    {
     "data": {
      "text/plain": "array([0.03211748, 0.00154999, 0.0070941 , 0.0011488 , 0.01436832,\n       0.40270459, 0.01424477, 0.06403265, 0.00496762, 0.01169177,\n       0.01808961, 0.0123114 , 0.41567892])"
     },
     "metadata": {},
     "output_type": "execute_result",
     "execution_count": 76
    }
   ],
   "source": [
    "rnd_forest_feature_importances = rnd_forest_model.feature_importances_\n",
    "rnd_forest_feature_importances"
   ],
   "metadata": {
    "collapsed": false,
    "pycharm": {
     "name": "#%%\n",
     "is_executing": false
    }
   }
  },
  {
   "cell_type": "code",
   "execution_count": 56,
   "outputs": [
    {
     "data": {
      "text/plain": "0.9999999999999999"
     },
     "metadata": {},
     "output_type": "execute_result",
     "execution_count": 56
    }
   ],
   "source": [
    "# найдите информацию об атрибуте feature_importances_.\n",
    "# С помощью этого атрибута найдите суммувсех показателей важности\n",
    "rnd_forest_feature_importances.sum()\n"
   ],
   "metadata": {
    "collapsed": false,
    "pycharm": {
     "name": "#%%\n",
     "is_executing": false
    }
   }
  },
  {
   "cell_type": "code",
   "execution_count": 77,
   "outputs": [
    {
     "data": {
      "text/plain": "array(['CRIM', 'ZN', 'INDUS', 'CHAS', 'NOX', 'RM', 'AGE', 'DIS', 'RAD',\n       'TAX', 'PTRATIO', 'B', 'LSTAT'], dtype='<U7')"
     },
     "metadata": {},
     "output_type": "execute_result",
     "execution_count": 77
    }
   ],
   "source": [
    "boston = load_boston()\n",
    "boston_feature_names = boston.feature_names\n",
    "boston_feature_names"
   ],
   "metadata": {
    "collapsed": false,
    "pycharm": {
     "name": "#%%\n",
     "is_executing": false
    }
   }
  },
  {
   "cell_type": "code",
   "execution_count": 98,
   "outputs": [
    {
     "data": {
      "text/plain": "   feature_names  feature_importances\n0           CRIM             0.032117\n1             ZN             0.001550\n2          INDUS             0.007094\n3           CHAS             0.001149\n4            NOX             0.014368\n5             RM             0.402705\n6            AGE             0.014245\n7            DIS             0.064033\n8            RAD             0.004968\n9            TAX             0.011692\n10       PTRATIO             0.018090\n11             B             0.012311\n12         LSTAT             0.415679",
      "text/html": "<div>\n<style scoped>\n    .dataframe tbody tr th:only-of-type {\n        vertical-align: middle;\n    }\n\n    .dataframe tbody tr th {\n        vertical-align: top;\n    }\n\n    .dataframe thead th {\n        text-align: right;\n    }\n</style>\n<table border=\"1\" class=\"dataframe\">\n  <thead>\n    <tr style=\"text-align: right;\">\n      <th></th>\n      <th>feature_names</th>\n      <th>feature_importances</th>\n    </tr>\n  </thead>\n  <tbody>\n    <tr>\n      <th>0</th>\n      <td>CRIM</td>\n      <td>0.032117</td>\n    </tr>\n    <tr>\n      <th>1</th>\n      <td>ZN</td>\n      <td>0.001550</td>\n    </tr>\n    <tr>\n      <th>2</th>\n      <td>INDUS</td>\n      <td>0.007094</td>\n    </tr>\n    <tr>\n      <th>3</th>\n      <td>CHAS</td>\n      <td>0.001149</td>\n    </tr>\n    <tr>\n      <th>4</th>\n      <td>NOX</td>\n      <td>0.014368</td>\n    </tr>\n    <tr>\n      <th>5</th>\n      <td>RM</td>\n      <td>0.402705</td>\n    </tr>\n    <tr>\n      <th>6</th>\n      <td>AGE</td>\n      <td>0.014245</td>\n    </tr>\n    <tr>\n      <th>7</th>\n      <td>DIS</td>\n      <td>0.064033</td>\n    </tr>\n    <tr>\n      <th>8</th>\n      <td>RAD</td>\n      <td>0.004968</td>\n    </tr>\n    <tr>\n      <th>9</th>\n      <td>TAX</td>\n      <td>0.011692</td>\n    </tr>\n    <tr>\n      <th>10</th>\n      <td>PTRATIO</td>\n      <td>0.018090</td>\n    </tr>\n    <tr>\n      <th>11</th>\n      <td>B</td>\n      <td>0.012311</td>\n    </tr>\n    <tr>\n      <th>12</th>\n      <td>LSTAT</td>\n      <td>0.415679</td>\n    </tr>\n  </tbody>\n</table>\n</div>"
     },
     "metadata": {},
     "output_type": "execute_result",
     "execution_count": 98
    }
   ],
   "source": [
    "df_features_importances = pd.DataFrame({'feature_names':boston_feature_names,'feature_importances':rnd_forest_feature_importances})\n",
    "df_features_importances"
   ],
   "metadata": {
    "collapsed": false,
    "pycharm": {
     "name": "#%%\n",
     "is_executing": false
    }
   }
  },
  {
   "cell_type": "code",
   "execution_count": 99,
   "outputs": [
    {
     "data": {
      "text/plain": "   feature_names  feature_importances\n12         LSTAT             0.415679\n5             RM             0.402705",
      "text/html": "<div>\n<style scoped>\n    .dataframe tbody tr th:only-of-type {\n        vertical-align: middle;\n    }\n\n    .dataframe tbody tr th {\n        vertical-align: top;\n    }\n\n    .dataframe thead th {\n        text-align: right;\n    }\n</style>\n<table border=\"1\" class=\"dataframe\">\n  <thead>\n    <tr style=\"text-align: right;\">\n      <th></th>\n      <th>feature_names</th>\n      <th>feature_importances</th>\n    </tr>\n  </thead>\n  <tbody>\n    <tr>\n      <th>12</th>\n      <td>LSTAT</td>\n      <td>0.415679</td>\n    </tr>\n    <tr>\n      <th>5</th>\n      <td>RM</td>\n      <td>0.402705</td>\n    </tr>\n  </tbody>\n</table>\n</div>"
     },
     "metadata": {},
     "output_type": "execute_result",
     "execution_count": 99
    }
   ],
   "source": [
    "df_features_importances.nlargest(2, columns='feature_importances')\n"
   ],
   "metadata": {
    "collapsed": false,
    "pycharm": {
     "name": "#%%\n",
     "is_executing": false
    }
   }
  }
 ],
 "metadata": {
  "kernelspec": {
   "display_name": "Python 3",
   "language": "python",
   "name": "python3"
  },
  "language_info": {
   "codemirror_mode": {
    "name": "ipython",
    "version": 2
   },
   "file_extension": ".py",
   "mimetype": "text/x-python",
   "name": "python",
   "nbconvert_exporter": "python",
   "pygments_lexer": "ipython2",
   "version": "2.7.6"
  },
  "pycharm": {
   "stem_cell": {
    "cell_type": "raw",
    "source": [],
    "metadata": {
     "collapsed": false
    }
   }
  }
 },
 "nbformat": 4,
 "nbformat_minor": 0
}